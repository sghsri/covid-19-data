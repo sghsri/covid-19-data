{
 "cells": [
  {
   "cell_type": "code",
   "execution_count": null,
   "id": "10df71e8-5e7a-40cf-a449-a858e0387f3d",
   "metadata": {},
   "outputs": [],
   "source": [
    "# First notebook\n",
    "## Basic visualization walkthrough \n",
    "\n",
    "# Second Notebook\n",
    "\n",
    "## Already made notebook to show potential of advanced visualizations"
   ]
  },
  {
   "cell_type": "code",
   "execution_count": 28,
   "id": "6579ca91-688c-4b5c-93e0-97a1c9b4fb89",
   "metadata": {},
   "outputs": [],
   "source": [
    "import numpy as np\n",
    "import matplotlib.pyplot as plt\n",
    "\n",
    "import pandas as pd\n"
   ]
  },
  {
   "cell_type": "code",
   "execution_count": 29,
   "id": "62405e88-669d-4627-9bed-6f0d5ed19295",
   "metadata": {},
   "outputs": [],
   "source": [
    "import csv\n",
    "with open('owid-covid-latest.csv', newline='') as csvfile:\n",
    "    # spamreader = csv.reader(csvfile, delimiter=',', quotechar='|')\n",
    "    spamreader = csv.reader(csvfile, delimiter=',')\n",
    "    \n",
    "    data = list(spamreader)\n",
    "    \n",
    "    # for row in spamreader:\n",
    "    #     print(', '.join(row))\n",
    "    #     print()"
   ]
  },
  {
   "cell_type": "code",
   "execution_count": 30,
   "id": "13e1d895-b0c1-4ac7-abae-3bd402377d60",
   "metadata": {},
   "outputs": [],
   "source": [
    "\n",
    "df = pd.read_csv('owid-covid-latest.csv')\n"
   ]
  },
  {
   "cell_type": "code",
   "execution_count": 31,
   "id": "affcabd0-f8c1-42d9-8b3d-8e867b7862fc",
   "metadata": {},
   "outputs": [
    {
     "data": {
      "text/plain": [
       "Index(['iso_code', 'continent', 'location', 'last_updated_date', 'total_cases',\n",
       "       'new_cases', 'new_cases_smoothed', 'total_deaths', 'new_deaths',\n",
       "       'new_deaths_smoothed', 'total_cases_per_million',\n",
       "       'new_cases_per_million', 'new_cases_smoothed_per_million',\n",
       "       'total_deaths_per_million', 'new_deaths_per_million',\n",
       "       'new_deaths_smoothed_per_million', 'reproduction_rate', 'icu_patients',\n",
       "       'icu_patients_per_million', 'hosp_patients',\n",
       "       'hosp_patients_per_million', 'weekly_icu_admissions',\n",
       "       'weekly_icu_admissions_per_million', 'weekly_hosp_admissions',\n",
       "       'weekly_hosp_admissions_per_million', 'total_tests', 'new_tests',\n",
       "       'total_tests_per_thousand', 'new_tests_per_thousand',\n",
       "       'new_tests_smoothed', 'new_tests_smoothed_per_thousand',\n",
       "       'positive_rate', 'tests_per_case', 'tests_units', 'total_vaccinations',\n",
       "       'people_vaccinated', 'people_fully_vaccinated', 'total_boosters',\n",
       "       'new_vaccinations', 'new_vaccinations_smoothed',\n",
       "       'total_vaccinations_per_hundred', 'people_vaccinated_per_hundred',\n",
       "       'people_fully_vaccinated_per_hundred', 'total_boosters_per_hundred',\n",
       "       'new_vaccinations_smoothed_per_million',\n",
       "       'new_people_vaccinated_smoothed',\n",
       "       'new_people_vaccinated_smoothed_per_hundred', 'stringency_index',\n",
       "       'population', 'population_density', 'median_age', 'aged_65_older',\n",
       "       'aged_70_older', 'gdp_per_capita', 'extreme_poverty',\n",
       "       'cardiovasc_death_rate', 'diabetes_prevalence', 'female_smokers',\n",
       "       'male_smokers', 'handwashing_facilities', 'hospital_beds_per_thousand',\n",
       "       'life_expectancy', 'human_development_index',\n",
       "       'excess_mortality_cumulative_absolute', 'excess_mortality_cumulative',\n",
       "       'excess_mortality', 'excess_mortality_cumulative_per_million'],\n",
       "      dtype='object')"
      ]
     },
     "execution_count": 31,
     "metadata": {},
     "output_type": "execute_result"
    }
   ],
   "source": [
    "df.columns"
   ]
  },
  {
   "cell_type": "code",
   "execution_count": 32,
   "id": "80490c3b-f709-4d59-98bc-df26a9a4ddd0",
   "metadata": {},
   "outputs": [],
   "source": [
    "# dir(df)"
   ]
  },
  {
   "cell_type": "code",
   "execution_count": null,
   "id": "bf9b9e01-bf1a-473f-bda4-9189164b77cc",
   "metadata": {},
   "outputs": [],
   "source": []
  },
  {
   "cell_type": "code",
   "execution_count": 44,
   "id": "7594d6e8-d826-4d4b-aed0-f7056a0f12bc",
   "metadata": {},
   "outputs": [],
   "source": [
    "countries = df['location'][:10]\n",
    "total_cases = df['total_cases'][:10]"
   ]
  },
  {
   "cell_type": "code",
   "execution_count": null,
   "id": "4ceef68c-0b57-40ce-bc15-c8ef902754e7",
   "metadata": {},
   "outputs": [],
   "source": []
  },
  {
   "cell_type": "code",
   "execution_count": 54,
   "id": "c2eb3690-3b2f-45be-af7c-a7938c23c0e8",
   "metadata": {},
   "outputs": [
    {
     "data": {
      "image/png": "[encoded data removed]",
      "text/plain": [
       "<Figure size 432x288 with 1 Axes>"
      ]
     },
     "metadata": {
      "needs_background": "light"
     },
     "output_type": "display_data"
    }
   ],
   "source": [
    "x = np.arange(len(total_cases))\n",
    "plt.bar(x=x, height=total_cases, color='orange')\n",
    "plt.xticks(ticks=x, labels=list(countries))\n",
    "plt.xticks(rotation=90)\n",
    "plt.yscale('log')\n",
    "plt.show()"
   ]
  },
  {
   "cell_type": "code",
   "execution_count": null,
   "id": "c647f67b-0ecb-4a36-a698-45ebe2c92fae",
   "metadata": {},
   "outputs": [],
   "source": []
  },
  {
   "cell_type": "code",
   "execution_count": null,
   "id": "285a6063-ae95-4b4d-9f3d-59770ac6dac8",
   "metadata": {},
   "outputs": [],
   "source": []
  },
  {
   "cell_type": "code",
   "execution_count": null,
   "id": "f4655586-6151-4f27-9e79-ee330d3ebd7e",
   "metadata": {},
   "outputs": [],
   "source": []
  },
  {
   "cell_type": "code",
   "execution_count": null,
   "id": "20113cca-7118-43cc-8768-ae6e5af9dd99",
   "metadata": {},
   "outputs": [],
   "source": []
  }
 ],
 "metadata": {
  "kernelspec": {
   "display_name": "Python 3 (ipykernel)",
   "language": "python",
   "name": "python3"
  },
  "language_info": {
   "codemirror_mode": {
    "name": "ipython",
    "version": 3
   },
   "file_extension": ".py",
   "mimetype": "text/x-python",
   "name": "python",
   "nbconvert_exporter": "python",
   "pygments_lexer": "ipython3",
   "version": "3.9.5"
  }
 },
 "nbformat": 4,
 "nbformat_minor": 5
}
